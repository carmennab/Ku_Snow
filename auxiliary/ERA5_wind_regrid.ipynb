{
 "cells": [
  {
   "cell_type": "code",
   "execution_count": 4,
   "id": "bd25f887",
   "metadata": {},
   "outputs": [],
   "source": [
    "### calculate daily ERA5 wind speed from u- and v-components and place onto EASE 2.0 grid"
   ]
  },
  {
   "cell_type": "code",
   "execution_count": 5,
   "id": "86e8010d",
   "metadata": {},
   "outputs": [],
   "source": [
    "import numpy as np\n",
    "import tqdm\n",
    "from netCDF4 import Dataset\n",
    "import itertools\n",
    "from math import sqrt\n",
    "from regrid import regrid\n",
    "import xarray as xr\n",
    "import warnings\n",
    "warnings.filterwarnings(\"ignore\")"
   ]
  },
  {
   "cell_type": "code",
   "execution_count": 6,
   "id": "20fac6e5",
   "metadata": {},
   "outputs": [
    {
     "name": "stderr",
     "output_type": "stream",
     "text": [
      "100%|████████████████████████████████████████| 11/11 [1:52:10<00:00, 611.86s/it]\n"
     ]
    }
   ],
   "source": [
    "# creating numpy are with daily wind data on EASE grid for 2010-2020\n",
    "\n",
    "datapath = '/Users/carmennab/Dropbox/OI_PolarSnow/data/ERA5/wind/'\n",
    "EASE_lats = np.load('/Users/carmennab/Dropbox/OI_PolarSnow/EASE/auxiliary/new_lat_25km.npy')\n",
    "EASE_lons = np.load('/Users/carmennab/Dropbox/OI_PolarSnow/EASE/auxiliary/new_lon_25km.npy')\n",
    "missing = np.full((153,360,360),np.nan)\n",
    "years = ['2010', '2011', '2012','2013', '2014', '2015', '2016', '2017', '2018', '2019', '2020']\n",
    "\n",
    "all_speed = {}\n",
    "\n",
    "for year in tqdm.tqdm(years):\n",
    "    \n",
    "    # load ERA5 temperature data\n",
    "    file = datapath + year +'.nc'\n",
    "    data = Dataset(file,'r')\n",
    "    lon = data['longitude']\n",
    "    lat = data['latitude']\n",
    "    era5_lon,era5_lat = np.meshgrid(np.array(lon),np.array(lat))\n",
    "    wind_v = data['v10']\n",
    "    wind_u = data['u10'] \n",
    "          \n",
    "    # turn hourly data into daily data and regrid onto EASE grid        \n",
    "    v_daily = []\n",
    "    u_daily = []\n",
    "    speed_daily = []\n",
    "\n",
    "    for i in np.arange(0,wind_v.shape[0],24):\n",
    "\n",
    "        # v component\n",
    "\n",
    "        v_on_day = wind_v[i:i+24]\n",
    "\n",
    "        v_day_ave = np.nanmean(v_on_day,axis=0)\n",
    "        \n",
    "        # u component\n",
    "\n",
    "        u_on_day = wind_v[i:i+24]\n",
    "\n",
    "        u_day_ave = np.nanmean(u_on_day,axis=0)\n",
    "\n",
    "        speed = np.full((121,1440),np.nan)\n",
    "        for i, j in itertools.product(np.arange(121),\n",
    "                              np.arange(1440)):\n",
    "            speed[i,j] = sqrt((v_day_ave[i,j]**2) + (u_day_ave[i,j]**2))\n",
    "        speed_WG = regrid(speed, era5_lon, era5_lat, EASE_lons, EASE_lats, method = 'linear')\n",
    "        speed_daily.append(speed_WG)\n",
    "    \n",
    "    speeds = np.concatenate((speed_daily[:-92],missing,speed_daily[-92:]),axis=0)\n",
    "    all_speed[year] = speeds"
   ]
  },
  {
   "cell_type": "code",
   "execution_count": 7,
   "id": "ebf75904",
   "metadata": {},
   "outputs": [],
   "source": [
    "array_speed = np.concatenate((all_speed['2010'],all_speed['2011'],all_speed['2012'],all_speed['2013'],all_speed['2014'],\n",
    "               all_speed['2015'],all_speed['2016'],all_speed['2017'],all_speed['2018'],all_speed['2019'],\n",
    "               all_speed['2020']),axis=0)"
   ]
  },
  {
   "cell_type": "code",
   "execution_count": 8,
   "id": "0dfe9bc4",
   "metadata": {},
   "outputs": [],
   "source": [
    "# create wind NETCDF\n",
    "days = np.arange(0,4018)\n",
    "data_vars = {'Wind Speed':(['t','x','y'],array_speed)}\n",
    "ds = xr.Dataset(data_vars = data_vars,\n",
    "                coords={'Longitude':(['x','y'],EASE_lons),\n",
    "                        'Latitude':(['x','y'],EASE_lats),\n",
    "                         'Day':(['t'],days)}     )\n",
    "ds.to_netcdf(f'/Users/carmennab/Dropbox/OI_PolarSnow/EASE/data/ERA5_windspeed.nc','w')"
   ]
  }
 ],
 "metadata": {
  "kernelspec": {
   "display_name": "Python 3 (ipykernel)",
   "language": "python",
   "name": "python3"
  },
  "language_info": {
   "codemirror_mode": {
    "name": "ipython",
    "version": 3
   },
   "file_extension": ".py",
   "mimetype": "text/x-python",
   "name": "python",
   "nbconvert_exporter": "python",
   "pygments_lexer": "ipython3",
   "version": "3.8.13"
  }
 },
 "nbformat": 4,
 "nbformat_minor": 5
}
