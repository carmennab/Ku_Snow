{
 "cells": [
  {
   "cell_type": "code",
   "execution_count": null,
   "id": "f1bf1620",
   "metadata": {},
   "outputs": [],
   "source": [
    "import numpy as np\n",
    "from scipy.stats import pearsonr\n",
    "import datetime\n",
    "import pandas as pd\n",
    "import glob\n",
    "import matplotlib.pyplot as plt\n",
    "from matplotlib import gridspec\n",
    "import datetime\n",
    "from regrid import regrid_fast\n",
    "# from regrid import regrid\n",
    "import seaborn as sns\n",
    "import xarray as xr\n",
    "import os\n",
    "import tqdm\n",
    "from netCDF4 import Dataset\n",
    "import warnings\n",
    "warnings.filterwarnings(\"ignore\")"
   ]
  },
  {
   "cell_type": "code",
   "execution_count": null,
   "id": "61b7464f",
   "metadata": {},
   "outputs": [],
   "source": [
    "datapath = '/Users/carmennab/Dropbox/OI_PolarSnow/data/ERA5/snowfall/'\n",
    "EASE_lats = np.load('/Users/carmennab/Dropbox/OI_PolarSnow/EASE/auxiliary/new_lat_25km.npy')\n",
    "EASE_lons = np.load('/Users/carmennab/Dropbox/OI_PolarSnow/EASE/auxiliary/new_lon_25km.npy')\n",
    "days = np.arange(0,4018)\n",
    "dates = [datetime.date(2010,1,1)+datetime.timedelta(days=int(days)) for days in days]\n",
    "all_sfs = np.full((len(days),721,1440),np.nan)\n",
    "\n",
    "# load daily snowfall into giant array\n",
    "for day in tqdm.tqdm(days): \n",
    "    try:\n",
    "        date = dates[day].strftime('%Y%m%d')\n",
    "        file = datapath + 'daily-sf_' + date + '.nc'\n",
    "        data = Dataset(file,'r')\n",
    "        sf = data['sf']  \n",
    "        all_sfs[day] = sf[0]   \n",
    "    \n",
    "    except FileNotFoundError:\n",
    "        pass\n",
    "    \n",
    "lon = data['longitude']\n",
    "lat = data['latitude']\n",
    "era5_lon,era5_lat = np.meshgrid(np.array(lon),np.array(lat))\n",
    "    \n",
    "# regrid onto EASE 2.0 grid\n",
    "all_sf = regrid_fast(all_sfs, era5_lon, era5_lat, EASE_lons, EASE_lats)"
   ]
  },
  {
   "cell_type": "code",
   "execution_count": null,
   "id": "c7f8d775",
   "metadata": {},
   "outputs": [],
   "source": [
    "# create snowfall NETCDF\n",
    "days = np.arange(0,4018)\n",
    "data_vars = {'Snowfall':(['t','x','y'],all_sf)}\n",
    "ds = xr.Dataset(data_vars = data_vars,\n",
    "                coords={'Longitude':(['x','y'],EASE_lons),\n",
    "                        'Latitude':(['x','y'],EASE_lats),\n",
    "                         'Day':(['t'],days)}     )\n",
    "ds.to_netcdf(f'/Users/carmennab/Dropbox/OI_PolarSnow/EASE/data/ERA5_snowfall.nc','w')"
   ]
  }
 ],
 "metadata": {
  "kernelspec": {
   "display_name": "Python 3 (ipykernel)",
   "language": "python",
   "name": "python3"
  },
  "language_info": {
   "codemirror_mode": {
    "name": "ipython",
    "version": 3
   },
   "file_extension": ".py",
   "mimetype": "text/x-python",
   "name": "python",
   "nbconvert_exporter": "python",
   "pygments_lexer": "ipython3",
   "version": "3.8.13"
  }
 },
 "nbformat": 4,
 "nbformat_minor": 5
}
