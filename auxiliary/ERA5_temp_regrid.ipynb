{
 "cells": [
  {
   "cell_type": "code",
   "execution_count": 1,
   "id": "73221b60",
   "metadata": {},
   "outputs": [],
   "source": [
    "### calculate daily average air temperature from hourly average and place onto EASE 2.0 grid"
   ]
  },
  {
   "cell_type": "code",
   "execution_count": 2,
   "id": "21cc2830",
   "metadata": {},
   "outputs": [
    {
     "name": "stderr",
     "output_type": "stream",
     "text": [
      "/opt/anaconda3/lib/python3.8/site-packages/pyproj/crs/crs.py:131: FutureWarning: '+init=<authority>:<code>' syntax is deprecated. '<authority>:<code>' is the preferred initialization method. When making the change, be mindful of axis order changes: https://pyproj4.github.io/pyproj/stable/gotchas.html#axis-order-changes-in-proj-6\n",
      "  in_crs_string = _prepare_from_proj_string(in_crs_string)\n"
     ]
    }
   ],
   "source": [
    "import numpy as np\n",
    "from scipy.stats import pearsonr\n",
    "import datetime\n",
    "import pandas as pd\n",
    "import glob\n",
    "import matplotlib.pyplot as plt\n",
    "from matplotlib import gridspec\n",
    "import datetime\n",
    "from regrid import regrid\n",
    "import xarray as xr\n",
    "import seaborn as sns\n",
    "import os\n",
    "import tqdm\n",
    "from netCDF4 import Dataset\n",
    "import warnings\n",
    "warnings.filterwarnings(\"ignore\")"
   ]
  },
  {
   "cell_type": "code",
   "execution_count": 37,
   "id": "f7c055ea",
   "metadata": {},
   "outputs": [
    {
     "name": "stderr",
     "output_type": "stream",
     "text": [
      "100%|████████████████████████████████████████| 11/11 [1:29:38<00:00, 488.99s/it]\n"
     ]
    }
   ],
   "source": [
    "# creating numpy are with daily temperature data on EASE grid for 2010-2020\n",
    "\n",
    "datapath = '/Users/carmennab/Dropbox/OI_PolarSnow/data/ERA5/temp/'\n",
    "EASE_lats = np.load('/Users/carmennab/Dropbox/OI_PolarSnow/EASE/auxiliary/new_lat_25km.npy')\n",
    "EASE_lons = np.load('/Users/carmennab/Dropbox/OI_PolarSnow/EASE/auxiliary/new_lon_25km.npy')\n",
    "missing = np.full((153,360,360),np.nan)\n",
    "years = ['2010', '2011', '2012','2013', '2014', '2015', '2016', '2017', '2018', '2019', '2020']\n",
    "\n",
    "all_temps = {}\n",
    "\n",
    "for year in tqdm.tqdm(years):\n",
    "    \n",
    "    # load ERA5 temperature data\n",
    "    file = datapath + year +'.nc'\n",
    "    data = Dataset(file,'r')\n",
    "    lon = data['longitude']\n",
    "    lat = data['latitude']\n",
    "    era5_lon,era5_lat = np.meshgrid(np.array(lon),np.array(lat))\n",
    "    temp = data['t2m']    \n",
    "           \n",
    "    # turn hourly data into daily data and regrid onto EASE grid        \n",
    "    temp_daily = []\n",
    "\n",
    "    for i in np.arange(0,temp.shape[0],24):\n",
    "\n",
    "        temps_on_day = temp[i:i+24]\n",
    "\n",
    "        day_ave = np.nanmean(temps_on_day,axis=0)\n",
    "    \n",
    "\n",
    "        regrid_ave = regrid(day_ave,\n",
    "                            era5_lon,\n",
    "                            era5_lat,\n",
    "                            EASE_lons,\n",
    "                            EASE_lats,\n",
    "                            method='linear')\n",
    "\n",
    "        temp_daily.append(regrid_ave)\n",
    "    \n",
    "    # create full year list, with NaNs for days in May - September\n",
    "    year_temps = np.concatenate((temp_daily[:-92],missing,temp_daily[-92:]),axis=0)\n",
    "\n",
    "    all_temps[year] = year_temps"
   ]
  },
  {
   "cell_type": "code",
   "execution_count": 38,
   "id": "1402c06c",
   "metadata": {},
   "outputs": [],
   "source": [
    "# create one array containing data for all years and save\n",
    "all_temps_arr = np.concatenate((all_temps['2010'], all_temps['2011'], all_temps['2012'], all_temps['2013'], \n",
    "                               all_temps['2014'], all_temps['2015'], all_temps['2016'], all_temps['2017'], \n",
    "                               all_temps['2018'], all_temps['2019'], all_temps['2020']),axis=0)"
   ]
  },
  {
   "cell_type": "code",
   "execution_count": 39,
   "id": "a5b07b26",
   "metadata": {},
   "outputs": [],
   "source": [
    "# create temp NETCDF\n",
    "days = np.arange(0,4018)\n",
    "data_vars = {'Temperature':(['t','x','y'],all_temps_arr)}\n",
    "ds = xr.Dataset(data_vars = data_vars,\n",
    "                coords={'Longitude':(['x','y'],EASE_lons),\n",
    "                        'Latitude':(['x','y'],EASE_lats),\n",
    "                         'Day':(['t'],days)}     )\n",
    "ds.to_netcdf(f'/Users/carmennab/Dropbox/OI_PolarSnow/EASE/data/ERA5_temp.nc','w')"
   ]
  }
 ],
 "metadata": {
  "kernelspec": {
   "display_name": "Python 3 (ipykernel)",
   "language": "python",
   "name": "python3"
  },
  "language_info": {
   "codemirror_mode": {
    "name": "ipython",
    "version": 3
   },
   "file_extension": ".py",
   "mimetype": "text/x-python",
   "name": "python",
   "nbconvert_exporter": "python",
   "pygments_lexer": "ipython3",
   "version": "3.8.13"
  }
 },
 "nbformat": 4,
 "nbformat_minor": 5
}
