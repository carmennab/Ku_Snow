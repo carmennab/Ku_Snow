{
 "cells": [
  {
   "cell_type": "code",
   "execution_count": 1,
   "id": "362930f2",
   "metadata": {},
   "outputs": [
    {
     "name": "stderr",
     "output_type": "stream",
     "text": [
      "/opt/anaconda3/lib/python3.8/site-packages/pyproj/crs/crs.py:131: FutureWarning: '+init=<authority>:<code>' syntax is deprecated. '<authority>:<code>' is the preferred initialization method. When making the change, be mindful of axis order changes: https://pyproj4.github.io/pyproj/stable/gotchas.html#axis-order-changes-in-proj-6\n",
      "  in_crs_string = _prepare_from_proj_string(in_crs_string)\n"
     ]
    }
   ],
   "source": [
    "import numpy as np\n",
    "from netCDF4 import Dataset\n",
    "from mpl_toolkits.basemap import Basemap\n",
    "import datetime\n",
    "from scipy.interpolate import griddata\n",
    "import tqdm\n",
    "from regrid import regrid\n",
    "import matplotlib.pyplot as plt\n",
    "import xarray as xr\n",
    "import warnings\n",
    "warnings.filterwarnings(\"ignore\")"
   ]
  },
  {
   "cell_type": "markdown",
   "id": "5774b252",
   "metadata": {},
   "source": [
    "### depth"
   ]
  },
  {
   "cell_type": "code",
   "execution_count": 5,
   "id": "f1e0d25e",
   "metadata": {},
   "outputs": [],
   "source": [
    "#import lon, lat & snod values from original SM dataset\n",
    "datapath = '/Users/carmennab/Dropbox/OI_PolarSnow/data/SnowModelLG/'\n",
    "file = datapath+'SM_snod_ERA5_01Aug1980-31Jul2018_v01.nc'\n",
    "data = Dataset(file,'r')\n",
    "\n",
    "lon = data['x']\n",
    "lat = data['y']\n",
    "snod = data['snod'][10745:] # 1/1/2010 onwards only\n",
    "snod_orig = np.array(snod) ; lon = np.array(lon) ; lat = np.array(lat)\n",
    "snod_orig[snod_orig==-9999] = np.nan\n",
    "\n",
    "#import lon, lat & snod values from SM extension\n",
    "datapath = '/Users/carmennab/Dropbox/OI_PolarSnow/data/SnowModelLG/'\n",
    "file = datapath+'SM_snod_ERA5_ease_01Aug2018-31Jul2021.nc'\n",
    "data = Dataset(file,'r')\n",
    "snod_ext = data['snod'][:884]\n",
    "snod_ext = np.array(snod_ext)\n",
    "snod_ext[snod_ext==-9999] = np.nan\n",
    "\n",
    "# combine SM_orig and SM_ext\n",
    "snow = np.concatenate((snod_orig,snod_ext),axis=0)"
   ]
  },
  {
   "cell_type": "code",
   "execution_count": 6,
   "id": "9d9bbbd9",
   "metadata": {},
   "outputs": [
    {
     "name": "stderr",
     "output_type": "stream",
     "text": [
      "100%|█████████████████████████████████████| 4018/4018 [1:21:32<00:00,  1.22s/it]\n"
     ]
    }
   ],
   "source": [
    "# regrid onto EASE grid and save\n",
    "mymask = Dataset('/Users/carmennab/Dropbox/OI_PolarSnow/data/SnowModelLG/mask.nc')\n",
    "SM_lons = np.array(mymask['lon'])\n",
    "SM_lats = np.array(mymask['lat'])\n",
    "EASE_lats = np.load('/Users/carmennab/Dropbox/OI_PolarSnow/EASE/auxiliary/new_lat_25km.npy')\n",
    "EASE_lons = np.load('/Users/carmennab/Dropbox/OI_PolarSnow/EASE/auxiliary/new_lon_25km.npy')\n",
    "days = np.arange(0,4018)\n",
    "snows = np.full((4018,360,360), np.nan)\n",
    "for day in tqdm.tqdm(days):\n",
    "    snod = snow[day]\n",
    "    SM_new = regrid(snod, SM_lons, SM_lats, EASE_lons, EASE_lats, method='linear')\n",
    "    snows[day] = SM_new"
   ]
  },
  {
   "cell_type": "code",
   "execution_count": 7,
   "id": "ed16beea",
   "metadata": {},
   "outputs": [],
   "source": [
    "# create SM-LG NETCDF\n",
    "data_vars = {'Snow Depth':(['t','x','y'],snows)}\n",
    "ds = xr.Dataset(data_vars = data_vars,\n",
    "                coords={'Longitude':(['x','y'],EASE_lons),\n",
    "                        'Latitude':(['x','y'],EASE_lats),\n",
    "                         'Day':(['t'],days)}     )\n",
    "ds.to_netcdf(f'/Users/carmennab/Dropbox/OI_PolarSnow/EASE/data/SMLG_snod_EASE.nc','w')"
   ]
  }
 ],
 "metadata": {
  "kernelspec": {
   "display_name": "Python 3 (ipykernel)",
   "language": "python",
   "name": "python3"
  },
  "language_info": {
   "codemirror_mode": {
    "name": "ipython",
    "version": 3
   },
   "file_extension": ".py",
   "mimetype": "text/x-python",
   "name": "python",
   "nbconvert_exporter": "python",
   "pygments_lexer": "ipython3",
   "version": "3.8.13"
  }
 },
 "nbformat": 4,
 "nbformat_minor": 5
}
