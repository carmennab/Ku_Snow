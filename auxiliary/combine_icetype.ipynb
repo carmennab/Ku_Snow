{
 "cells": [
  {
   "cell_type": "code",
   "execution_count": 1,
   "id": "4db72153",
   "metadata": {},
   "outputs": [
    {
     "name": "stderr",
     "output_type": "stream",
     "text": [
      "/opt/anaconda3/lib/python3.8/site-packages/pyproj/crs/crs.py:131: FutureWarning: '+init=<authority>:<code>' syntax is deprecated. '<authority>:<code>' is the preferred initialization method. When making the change, be mindful of axis order changes: https://pyproj4.github.io/pyproj/stable/gotchas.html#axis-order-changes-in-proj-6\n",
      "  in_crs_string = _prepare_from_proj_string(in_crs_string)\n"
     ]
    }
   ],
   "source": [
    "import numpy as np\n",
    "from netCDF4 import Dataset\n",
    "from mpl_toolkits.basemap import Basemap\n",
    "import datetime\n",
    "from scipy.interpolate import griddata\n",
    "import tqdm\n",
    "from regrid import regrid\n",
    "import matplotlib.pyplot as plt\n",
    "import xarray as xr\n",
    "import warnings\n",
    "warnings.filterwarnings(\"ignore\")"
   ]
  },
  {
   "cell_type": "code",
   "execution_count": 2,
   "id": "aa11f9c7",
   "metadata": {},
   "outputs": [
    {
     "name": "stderr",
     "output_type": "stream",
     "text": [
      "100%|███████████████████████████████████████| 4018/4018 [10:35<00:00,  6.32it/s]\n"
     ]
    }
   ],
   "source": [
    "datapath = '/Users/carmennab/Dropbox/OI_PolarSnow/data/CDS_icetype'\n",
    "\n",
    "days = np.arange(0,4018)\n",
    "dates = [datetime.date(2010,1,1)+datetime.timedelta(days=int(days)) for days in days]\n",
    "ease_lats = np.load('/Users/carmennab/Dropbox/OI_PolarSnow/EASE/auxiliary/new_lat_25km.npy')\n",
    "ease_lons = np.load('/Users/carmennab/Dropbox/OI_PolarSnow/EASE/auxiliary/new_lon_25km.npy')\n",
    "\n",
    "icetype_grid_25 = np.full((len(days),360,360),np.nan)\n",
    "\n",
    "for day in tqdm.tqdm(days):\n",
    "    date = dates[day].strftime('%Y%m%d')\n",
    "    try:\n",
    "        icetype = Dataset('/Users/carmennab/Dropbox/OI_PolarSnow/data/CDS_icetype/ice_type_nh_ease2-250_cdr-v2p0_' + date + '1200.nc')\n",
    "        icetype_lon = np.array(icetype['lon'])\n",
    "        icetype_lat = np.array(icetype['lat'])\n",
    "        itype = np.array(icetype['ice_type']).astype('float32')[0,:,:]\n",
    "        itype[itype>3] = np.nan\n",
    "        itype[itype<2] = np.nan\n",
    "        icetype_grid_25[day,:,:] = regrid(itype,icetype_lon,icetype_lat,ease_lons,ease_lats)\n",
    "    except:\n",
    "        pass"
   ]
  },
  {
   "cell_type": "code",
   "execution_count": 3,
   "id": "6ccd05bd",
   "metadata": {},
   "outputs": [],
   "source": [
    "# create icetype NETCDF\n",
    "data_vars = {'Ice Type':(['t','x','y'],icetype_grid_25)}\n",
    "ds = xr.Dataset(data_vars = data_vars,\n",
    "                coords={'Longitude':(['x','y'],ease_lons),\n",
    "                        'Latitude':(['x','y'],ease_lats),\n",
    "                         'Day':(['t'],days)}     )\n",
    "ds.to_netcdf(f'/Users/carmennab/Dropbox/OI_PolarSnow/EASE/data/icetype.nc','w')"
   ]
  }
 ],
 "metadata": {
  "kernelspec": {
   "display_name": "Python 3 (ipykernel)",
   "language": "python",
   "name": "python3"
  },
  "language_info": {
   "codemirror_mode": {
    "name": "ipython",
    "version": 3
   },
   "file_extension": ".py",
   "mimetype": "text/x-python",
   "name": "python",
   "nbconvert_exporter": "python",
   "pygments_lexer": "ipython3",
   "version": "3.8.13"
  }
 },
 "nbformat": 4,
 "nbformat_minor": 5
}
